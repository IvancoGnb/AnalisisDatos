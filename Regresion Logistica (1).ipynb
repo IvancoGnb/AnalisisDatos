{
 "cells": [
  {
   "cell_type": "markdown",
   "id": "a0732b00-7db6-42c6-b6e3-e65947450782",
   "metadata": {},
   "source": [
    "Ejercicio de Regresion logistica"
   ]
  },
  {
   "cell_type": "code",
   "execution_count": 75,
   "id": "c21052f9-dacf-4486-ac34-18f8f3de2a43",
   "metadata": {},
   "outputs": [
    {
     "name": "stdout",
     "output_type": "stream",
     "text": [
      "Regresion Lineal Jaiver Barco\n",
      "Analisis de Datos\n"
     ]
    }
   ],
   "source": [
    "print (\"Regresion Lineal Jaiver Barco\")\n",
    "print (\"Analisis de Datos\")\n"
   ]
  },
  {
   "cell_type": "markdown",
   "id": "97cf2f65-5d39-404d-a071-4af651eea2b9",
   "metadata": {},
   "source": [
    "Exporto librerias"
   ]
  },
  {
   "cell_type": "code",
   "execution_count": 5,
   "id": "45b0d891-f971-4617-b2a5-6751d1856cc2",
   "metadata": {},
   "outputs": [],
   "source": [
    "#cargar librerias necesarias\n",
    "import pandas as pd\n",
    "import numpy as np\n",
    "import seaborn as sns\n",
    "import matplotlib.pyplot as plt\n",
    "#librerias ciencias de datos\n",
    "from sklearn import metrics\n",
    "from sklearn.model_selection import train_test_split\n",
    "from sklearn.linear_model import LogisticRegression\n",
    "#from sklearn.linear_model import LinearRegression regresion \n",
    "from sklearn.metrics import classification_report, confusion_matrix"
   ]
  },
  {
   "cell_type": "markdown",
   "id": "92939118-cc69-441a-8ff3-7fccaa3499e4",
   "metadata": {},
   "source": [
    "Exporto el archivo llamado modelo el cual contiene el modelo para la regresion"
   ]
  },
  {
   "cell_type": "code",
   "execution_count": 23,
   "id": "f9770f64-560e-44bf-b3a2-751e122b3e8a",
   "metadata": {},
   "outputs": [],
   "source": [
    "#cargue de datos\n",
    "Datos=pd.read_csv('./modelo.csv')\n",
    "# regresion lineal  Datos2=pd.read_csv('./Carv32.csv')\n"
   ]
  },
  {
   "cell_type": "markdown",
   "id": "b44f8da3-9276-40f3-beeb-4542c5f0ad34",
   "metadata": {},
   "source": [
    "Listo los titulos los cuales previamente cambie a español"
   ]
  },
  {
   "cell_type": "code",
   "execution_count": 123,
   "id": "e5d1a81c-e395-4855-9057-54f4bab289ee",
   "metadata": {},
   "outputs": [
    {
     "data": {
      "text/html": [
       "<div>\n",
       "<style scoped>\n",
       "    .dataframe tbody tr th:only-of-type {\n",
       "        vertical-align: middle;\n",
       "    }\n",
       "\n",
       "    .dataframe tbody tr th {\n",
       "        vertical-align: top;\n",
       "    }\n",
       "\n",
       "    .dataframe thead th {\n",
       "        text-align: right;\n",
       "    }\n",
       "</style>\n",
       "<table border=\"1\" class=\"dataframe\">\n",
       "  <thead>\n",
       "    <tr style=\"text-align: right;\">\n",
       "      <th></th>\n",
       "      <th>Edad</th>\n",
       "      <th>sexo</th>\n",
       "      <th>Tipo_dolorP</th>\n",
       "      <th>PresionArterial</th>\n",
       "      <th>colesterol</th>\n",
       "      <th>AzucarSangre</th>\n",
       "      <th>ResultadosElectro</th>\n",
       "      <th>FrecuenciaC</th>\n",
       "      <th>AnginaInd</th>\n",
       "      <th>Depresion</th>\n",
       "      <th>Pendiente</th>\n",
       "      <th>NVasos</th>\n",
       "      <th>EstadoCorazon</th>\n",
       "      <th>Condicion</th>\n",
       "    </tr>\n",
       "  </thead>\n",
       "  <tbody>\n",
       "    <tr>\n",
       "      <th>0</th>\n",
       "      <td>69</td>\n",
       "      <td>1</td>\n",
       "      <td>0</td>\n",
       "      <td>160</td>\n",
       "      <td>234</td>\n",
       "      <td>1</td>\n",
       "      <td>2</td>\n",
       "      <td>131</td>\n",
       "      <td>0</td>\n",
       "      <td>0.1</td>\n",
       "      <td>1</td>\n",
       "      <td>1</td>\n",
       "      <td>0</td>\n",
       "      <td>0</td>\n",
       "    </tr>\n",
       "    <tr>\n",
       "      <th>1</th>\n",
       "      <td>69</td>\n",
       "      <td>0</td>\n",
       "      <td>0</td>\n",
       "      <td>140</td>\n",
       "      <td>239</td>\n",
       "      <td>0</td>\n",
       "      <td>0</td>\n",
       "      <td>151</td>\n",
       "      <td>0</td>\n",
       "      <td>1.8</td>\n",
       "      <td>0</td>\n",
       "      <td>2</td>\n",
       "      <td>0</td>\n",
       "      <td>0</td>\n",
       "    </tr>\n",
       "    <tr>\n",
       "      <th>2</th>\n",
       "      <td>66</td>\n",
       "      <td>0</td>\n",
       "      <td>0</td>\n",
       "      <td>150</td>\n",
       "      <td>226</td>\n",
       "      <td>0</td>\n",
       "      <td>0</td>\n",
       "      <td>114</td>\n",
       "      <td>0</td>\n",
       "      <td>2.6</td>\n",
       "      <td>2</td>\n",
       "      <td>0</td>\n",
       "      <td>0</td>\n",
       "      <td>0</td>\n",
       "    </tr>\n",
       "    <tr>\n",
       "      <th>3</th>\n",
       "      <td>65</td>\n",
       "      <td>1</td>\n",
       "      <td>0</td>\n",
       "      <td>138</td>\n",
       "      <td>282</td>\n",
       "      <td>1</td>\n",
       "      <td>2</td>\n",
       "      <td>174</td>\n",
       "      <td>0</td>\n",
       "      <td>1.4</td>\n",
       "      <td>1</td>\n",
       "      <td>1</td>\n",
       "      <td>0</td>\n",
       "      <td>1</td>\n",
       "    </tr>\n",
       "    <tr>\n",
       "      <th>4</th>\n",
       "      <td>64</td>\n",
       "      <td>1</td>\n",
       "      <td>0</td>\n",
       "      <td>110</td>\n",
       "      <td>211</td>\n",
       "      <td>0</td>\n",
       "      <td>2</td>\n",
       "      <td>144</td>\n",
       "      <td>1</td>\n",
       "      <td>1.8</td>\n",
       "      <td>1</td>\n",
       "      <td>0</td>\n",
       "      <td>0</td>\n",
       "      <td>0</td>\n",
       "    </tr>\n",
       "    <tr>\n",
       "      <th>...</th>\n",
       "      <td>...</td>\n",
       "      <td>...</td>\n",
       "      <td>...</td>\n",
       "      <td>...</td>\n",
       "      <td>...</td>\n",
       "      <td>...</td>\n",
       "      <td>...</td>\n",
       "      <td>...</td>\n",
       "      <td>...</td>\n",
       "      <td>...</td>\n",
       "      <td>...</td>\n",
       "      <td>...</td>\n",
       "      <td>...</td>\n",
       "      <td>...</td>\n",
       "    </tr>\n",
       "    <tr>\n",
       "      <th>95</th>\n",
       "      <td>60</td>\n",
       "      <td>0</td>\n",
       "      <td>2</td>\n",
       "      <td>120</td>\n",
       "      <td>178</td>\n",
       "      <td>1</td>\n",
       "      <td>0</td>\n",
       "      <td>96</td>\n",
       "      <td>0</td>\n",
       "      <td>0.0</td>\n",
       "      <td>0</td>\n",
       "      <td>0</td>\n",
       "      <td>0</td>\n",
       "      <td>0</td>\n",
       "    </tr>\n",
       "    <tr>\n",
       "      <th>96</th>\n",
       "      <td>59</td>\n",
       "      <td>1</td>\n",
       "      <td>2</td>\n",
       "      <td>126</td>\n",
       "      <td>218</td>\n",
       "      <td>1</td>\n",
       "      <td>0</td>\n",
       "      <td>134</td>\n",
       "      <td>0</td>\n",
       "      <td>2.2</td>\n",
       "      <td>1</td>\n",
       "      <td>1</td>\n",
       "      <td>1</td>\n",
       "      <td>1</td>\n",
       "    </tr>\n",
       "    <tr>\n",
       "      <th>97</th>\n",
       "      <td>59</td>\n",
       "      <td>1</td>\n",
       "      <td>2</td>\n",
       "      <td>150</td>\n",
       "      <td>212</td>\n",
       "      <td>1</td>\n",
       "      <td>0</td>\n",
       "      <td>157</td>\n",
       "      <td>0</td>\n",
       "      <td>1.6</td>\n",
       "      <td>0</td>\n",
       "      <td>0</td>\n",
       "      <td>0</td>\n",
       "      <td>0</td>\n",
       "    </tr>\n",
       "    <tr>\n",
       "      <th>98</th>\n",
       "      <td>58</td>\n",
       "      <td>1</td>\n",
       "      <td>2</td>\n",
       "      <td>112</td>\n",
       "      <td>230</td>\n",
       "      <td>0</td>\n",
       "      <td>2</td>\n",
       "      <td>165</td>\n",
       "      <td>0</td>\n",
       "      <td>2.5</td>\n",
       "      <td>1</td>\n",
       "      <td>1</td>\n",
       "      <td>2</td>\n",
       "      <td>1</td>\n",
       "    </tr>\n",
       "    <tr>\n",
       "      <th>99</th>\n",
       "      <td>58</td>\n",
       "      <td>1</td>\n",
       "      <td>2</td>\n",
       "      <td>105</td>\n",
       "      <td>240</td>\n",
       "      <td>0</td>\n",
       "      <td>2</td>\n",
       "      <td>154</td>\n",
       "      <td>1</td>\n",
       "      <td>0.6</td>\n",
       "      <td>1</td>\n",
       "      <td>0</td>\n",
       "      <td>2</td>\n",
       "      <td>0</td>\n",
       "    </tr>\n",
       "  </tbody>\n",
       "</table>\n",
       "<p>100 rows × 14 columns</p>\n",
       "</div>"
      ],
      "text/plain": [
       "    Edad  sexo  Tipo_dolorP  PresionArterial  colesterol  AzucarSangre  \\\n",
       "0     69     1            0              160         234             1   \n",
       "1     69     0            0              140         239             0   \n",
       "2     66     0            0              150         226             0   \n",
       "3     65     1            0              138         282             1   \n",
       "4     64     1            0              110         211             0   \n",
       "..   ...   ...          ...              ...         ...           ...   \n",
       "95    60     0            2              120         178             1   \n",
       "96    59     1            2              126         218             1   \n",
       "97    59     1            2              150         212             1   \n",
       "98    58     1            2              112         230             0   \n",
       "99    58     1            2              105         240             0   \n",
       "\n",
       "    ResultadosElectro  FrecuenciaC  AnginaInd  Depresion  Pendiente  NVasos  \\\n",
       "0                   2          131          0        0.1          1       1   \n",
       "1                   0          151          0        1.8          0       2   \n",
       "2                   0          114          0        2.6          2       0   \n",
       "3                   2          174          0        1.4          1       1   \n",
       "4                   2          144          1        1.8          1       0   \n",
       "..                ...          ...        ...        ...        ...     ...   \n",
       "95                  0           96          0        0.0          0       0   \n",
       "96                  0          134          0        2.2          1       1   \n",
       "97                  0          157          0        1.6          0       0   \n",
       "98                  2          165          0        2.5          1       1   \n",
       "99                  2          154          1        0.6          1       0   \n",
       "\n",
       "    EstadoCorazon  Condicion  \n",
       "0               0          0  \n",
       "1               0          0  \n",
       "2               0          0  \n",
       "3               0          1  \n",
       "4               0          0  \n",
       "..            ...        ...  \n",
       "95              0          0  \n",
       "96              1          1  \n",
       "97              0          0  \n",
       "98              2          1  \n",
       "99              2          0  \n",
       "\n",
       "[100 rows x 14 columns]"
      ]
     },
     "execution_count": 123,
     "metadata": {},
     "output_type": "execute_result"
    }
   ],
   "source": [
    "# regresion lineal Datos2.head()\n",
    "Datos.head(100)"
   ]
  },
  {
   "cell_type": "code",
   "execution_count": 31,
   "id": "ef403600-1a35-427b-98eb-d84043895f41",
   "metadata": {},
   "outputs": [
    {
     "data": {
      "text/html": [
       "<div>\n",
       "<style scoped>\n",
       "    .dataframe tbody tr th:only-of-type {\n",
       "        vertical-align: middle;\n",
       "    }\n",
       "\n",
       "    .dataframe tbody tr th {\n",
       "        vertical-align: top;\n",
       "    }\n",
       "\n",
       "    .dataframe thead th {\n",
       "        text-align: right;\n",
       "    }\n",
       "</style>\n",
       "<table border=\"1\" class=\"dataframe\">\n",
       "  <thead>\n",
       "    <tr style=\"text-align: right;\">\n",
       "      <th></th>\n",
       "      <th>Edad</th>\n",
       "      <th>sexo</th>\n",
       "      <th>Tipo_dolorP</th>\n",
       "      <th>PresionArterial</th>\n",
       "      <th>colesterol</th>\n",
       "      <th>AzucarSangre</th>\n",
       "      <th>ResultadosElectro</th>\n",
       "      <th>FrecuenciaC</th>\n",
       "      <th>AnginaInd</th>\n",
       "      <th>Depresion</th>\n",
       "      <th>Pendiente</th>\n",
       "      <th>NVasos</th>\n",
       "      <th>EstadoCorazon</th>\n",
       "      <th>Condicion</th>\n",
       "    </tr>\n",
       "  </thead>\n",
       "  <tbody>\n",
       "    <tr>\n",
       "      <th>count</th>\n",
       "      <td>297.000000</td>\n",
       "      <td>297.000000</td>\n",
       "      <td>297.000000</td>\n",
       "      <td>297.000000</td>\n",
       "      <td>297.000000</td>\n",
       "      <td>297.000000</td>\n",
       "      <td>297.000000</td>\n",
       "      <td>297.000000</td>\n",
       "      <td>297.000000</td>\n",
       "      <td>297.000000</td>\n",
       "      <td>297.000000</td>\n",
       "      <td>297.000000</td>\n",
       "      <td>297.000000</td>\n",
       "      <td>297.000000</td>\n",
       "    </tr>\n",
       "    <tr>\n",
       "      <th>mean</th>\n",
       "      <td>54.542088</td>\n",
       "      <td>0.676768</td>\n",
       "      <td>2.158249</td>\n",
       "      <td>131.693603</td>\n",
       "      <td>247.350168</td>\n",
       "      <td>0.144781</td>\n",
       "      <td>0.996633</td>\n",
       "      <td>149.599327</td>\n",
       "      <td>0.326599</td>\n",
       "      <td>1.055556</td>\n",
       "      <td>0.602694</td>\n",
       "      <td>0.676768</td>\n",
       "      <td>0.835017</td>\n",
       "      <td>0.461279</td>\n",
       "    </tr>\n",
       "    <tr>\n",
       "      <th>std</th>\n",
       "      <td>9.049736</td>\n",
       "      <td>0.468500</td>\n",
       "      <td>0.964859</td>\n",
       "      <td>17.762806</td>\n",
       "      <td>51.997583</td>\n",
       "      <td>0.352474</td>\n",
       "      <td>0.994914</td>\n",
       "      <td>22.941562</td>\n",
       "      <td>0.469761</td>\n",
       "      <td>1.166123</td>\n",
       "      <td>0.618187</td>\n",
       "      <td>0.938965</td>\n",
       "      <td>0.956690</td>\n",
       "      <td>0.499340</td>\n",
       "    </tr>\n",
       "    <tr>\n",
       "      <th>min</th>\n",
       "      <td>29.000000</td>\n",
       "      <td>0.000000</td>\n",
       "      <td>0.000000</td>\n",
       "      <td>94.000000</td>\n",
       "      <td>126.000000</td>\n",
       "      <td>0.000000</td>\n",
       "      <td>0.000000</td>\n",
       "      <td>71.000000</td>\n",
       "      <td>0.000000</td>\n",
       "      <td>0.000000</td>\n",
       "      <td>0.000000</td>\n",
       "      <td>0.000000</td>\n",
       "      <td>0.000000</td>\n",
       "      <td>0.000000</td>\n",
       "    </tr>\n",
       "    <tr>\n",
       "      <th>25%</th>\n",
       "      <td>48.000000</td>\n",
       "      <td>0.000000</td>\n",
       "      <td>2.000000</td>\n",
       "      <td>120.000000</td>\n",
       "      <td>211.000000</td>\n",
       "      <td>0.000000</td>\n",
       "      <td>0.000000</td>\n",
       "      <td>133.000000</td>\n",
       "      <td>0.000000</td>\n",
       "      <td>0.000000</td>\n",
       "      <td>0.000000</td>\n",
       "      <td>0.000000</td>\n",
       "      <td>0.000000</td>\n",
       "      <td>0.000000</td>\n",
       "    </tr>\n",
       "    <tr>\n",
       "      <th>50%</th>\n",
       "      <td>56.000000</td>\n",
       "      <td>1.000000</td>\n",
       "      <td>2.000000</td>\n",
       "      <td>130.000000</td>\n",
       "      <td>243.000000</td>\n",
       "      <td>0.000000</td>\n",
       "      <td>1.000000</td>\n",
       "      <td>153.000000</td>\n",
       "      <td>0.000000</td>\n",
       "      <td>0.800000</td>\n",
       "      <td>1.000000</td>\n",
       "      <td>0.000000</td>\n",
       "      <td>0.000000</td>\n",
       "      <td>0.000000</td>\n",
       "    </tr>\n",
       "    <tr>\n",
       "      <th>75%</th>\n",
       "      <td>61.000000</td>\n",
       "      <td>1.000000</td>\n",
       "      <td>3.000000</td>\n",
       "      <td>140.000000</td>\n",
       "      <td>276.000000</td>\n",
       "      <td>0.000000</td>\n",
       "      <td>2.000000</td>\n",
       "      <td>166.000000</td>\n",
       "      <td>1.000000</td>\n",
       "      <td>1.600000</td>\n",
       "      <td>1.000000</td>\n",
       "      <td>1.000000</td>\n",
       "      <td>2.000000</td>\n",
       "      <td>1.000000</td>\n",
       "    </tr>\n",
       "    <tr>\n",
       "      <th>max</th>\n",
       "      <td>77.000000</td>\n",
       "      <td>1.000000</td>\n",
       "      <td>3.000000</td>\n",
       "      <td>200.000000</td>\n",
       "      <td>564.000000</td>\n",
       "      <td>1.000000</td>\n",
       "      <td>2.000000</td>\n",
       "      <td>202.000000</td>\n",
       "      <td>1.000000</td>\n",
       "      <td>6.200000</td>\n",
       "      <td>2.000000</td>\n",
       "      <td>3.000000</td>\n",
       "      <td>2.000000</td>\n",
       "      <td>1.000000</td>\n",
       "    </tr>\n",
       "  </tbody>\n",
       "</table>\n",
       "</div>"
      ],
      "text/plain": [
       "             Edad        sexo  Tipo_dolorP  PresionArterial  colesterol  \\\n",
       "count  297.000000  297.000000   297.000000       297.000000  297.000000   \n",
       "mean    54.542088    0.676768     2.158249       131.693603  247.350168   \n",
       "std      9.049736    0.468500     0.964859        17.762806   51.997583   \n",
       "min     29.000000    0.000000     0.000000        94.000000  126.000000   \n",
       "25%     48.000000    0.000000     2.000000       120.000000  211.000000   \n",
       "50%     56.000000    1.000000     2.000000       130.000000  243.000000   \n",
       "75%     61.000000    1.000000     3.000000       140.000000  276.000000   \n",
       "max     77.000000    1.000000     3.000000       200.000000  564.000000   \n",
       "\n",
       "       AzucarSangre  ResultadosElectro  FrecuenciaC   AnginaInd   Depresion  \\\n",
       "count    297.000000         297.000000   297.000000  297.000000  297.000000   \n",
       "mean       0.144781           0.996633   149.599327    0.326599    1.055556   \n",
       "std        0.352474           0.994914    22.941562    0.469761    1.166123   \n",
       "min        0.000000           0.000000    71.000000    0.000000    0.000000   \n",
       "25%        0.000000           0.000000   133.000000    0.000000    0.000000   \n",
       "50%        0.000000           1.000000   153.000000    0.000000    0.800000   \n",
       "75%        0.000000           2.000000   166.000000    1.000000    1.600000   \n",
       "max        1.000000           2.000000   202.000000    1.000000    6.200000   \n",
       "\n",
       "        Pendiente      NVasos  EstadoCorazon   Condicion  \n",
       "count  297.000000  297.000000     297.000000  297.000000  \n",
       "mean     0.602694    0.676768       0.835017    0.461279  \n",
       "std      0.618187    0.938965       0.956690    0.499340  \n",
       "min      0.000000    0.000000       0.000000    0.000000  \n",
       "25%      0.000000    0.000000       0.000000    0.000000  \n",
       "50%      1.000000    0.000000       0.000000    0.000000  \n",
       "75%      1.000000    1.000000       2.000000    1.000000  \n",
       "max      2.000000    3.000000       2.000000    1.000000  "
      ]
     },
     "execution_count": 31,
     "metadata": {},
     "output_type": "execute_result"
    }
   ],
   "source": [
    "Datos.describe()\n",
    "# regresion lineal Datos2.describe()"
   ]
  },
  {
   "cell_type": "code",
   "execution_count": 66,
   "id": "9a76f147-07ca-4afe-9a8b-d9041b6751aa",
   "metadata": {},
   "outputs": [
    {
     "data": {
      "text/plain": [
       "Text(0.5, 1.0, 'Datos Atipicos Pendiente')"
      ]
     },
     "execution_count": 66,
     "metadata": {},
     "output_type": "execute_result"
    },
    {
     "data": {
      "image/png": "[encoded data removed]",
      "text/plain": [
       "<Figure size 600x300 with 1 Axes>"
      ]
     },
     "metadata": {},
     "output_type": "display_data"
    },
    {
     "data": {
      "image/png": "[encoded data removed]",
      "text/plain": [
       "<Figure size 600x300 with 1 Axes>"
      ]
     },
     "metadata": {},
     "output_type": "display_data"
    },
    {
     "data": {
      "image/png": "[encoded data removed]",
      "text/plain": [
       "<Figure size 600x300 with 1 Axes>"
      ]
     },
     "metadata": {},
     "output_type": "display_data"
    },
    {
     "data": {
      "image/png": "[encoded data removed]",
      "text/plain": [
       "<Figure size 600x300 with 1 Axes>"
      ]
     },
     "metadata": {},
     "output_type": "display_data"
    },
    {
     "data": {
      "image/png": "[encoded data removed]",
      "text/plain": [
       "<Figure size 600x300 with 1 Axes>"
      ]
     },
     "metadata": {},
     "output_type": "display_data"
    },
    {
     "data": {
      "image/png": "[encoded data removed]",
      "text/plain": [
       "<Figure size 600x300 with 1 Axes>"
      ]
     },
     "metadata": {},
     "output_type": "display_data"
    },
    {
     "data": {
      "image/png": "[encoded data removed]",
      "text/plain": [
       "<Figure size 600x300 with 1 Axes>"
      ]
     },
     "metadata": {},
     "output_type": "display_data"
    },
    {
     "data": {
      "image/png": "[encoded data removed]",
      "text/plain": [
       "<Figure size 600x300 with 1 Axes>"
      ]
     },
     "metadata": {},
     "output_type": "display_data"
    }
   ],
   "source": [
    "# Identificacion datos faltantes\n",
    "plt.figure(figsize=(6,3))\n",
    "sns.boxplot(x=Datos['ResultadosElectro'])\n",
    "plt.title('Datos Atipicos Resultados electro',fontsize=10 )\n",
    "plt.figure(figsize=(6,3))\n",
    "sns.boxplot(x=Datos['Pendiente'])\n",
    "plt.title('Datos Atipicos Pendiente',fontsize=10 )\n",
    "plt.figure(figsize=(6,3))\n",
    "sns.boxplot(x=Datos['EstadoCorazon'])\n",
    "plt.title('Datos Atipicos Pendiente',fontsize=10 )\n",
    "plt.figure(figsize=(6,3))\n",
    "sns.boxplot(x=Datos['Tipo_dolorP'])\n",
    "plt.title('Datos Atipicos Pendiente',fontsize=10 )\n",
    "\n",
    "plt.figure(figsize=(6,3))\n",
    "sns.boxplot(x=Datos['PresionArterial'])\n",
    "plt.title('Datos Atipicos Pendiente',fontsize=10 )\n",
    "\n",
    "plt.figure(figsize=(6,3))\n",
    "sns.boxplot(x=Datos['colesterol'])\n",
    "plt.title('Datos Atipicos Pendiente',fontsize=10 )\n",
    "\n",
    "plt.figure(figsize=(6,3))\n",
    "sns.boxplot(x=Datos['sexo'])\n",
    "plt.title('Datos Atipicos Pendiente',fontsize=10 )\n",
    "\n",
    "plt.figure(figsize=(6,3))\n",
    "sns.boxplot(x=Datos['Edad'])\n",
    "plt.title('Datos Atipicos Pendiente',fontsize=10 )"
   ]
  },
  {
   "cell_type": "markdown",
   "id": "67d5a47a-8f12-4f27-b364-7b1e224baf2d",
   "metadata": {},
   "source": [
    "busco datos con valores cero, para este ejercicio se tienen valores con cero en la mayoria de variables, los cuales son permitidos, pues son tipo booleanos\n"
   ]
  },
  {
   "cell_type": "code",
   "execution_count": 52,
   "id": "2aeae845-44a4-4ecb-881f-f96f735e5ae5",
   "metadata": {},
   "outputs": [
    {
     "name": "stdout",
     "output_type": "stream",
     "text": [
      "Registros con cero en Edad 0\n",
      "Registros con cero en sexo 96\n",
      "Registros con cero en Presion Arterial 0\n",
      "Registros con cero en Colesterol 0\n",
      "Registros con cero en Nivel azucar en sangre 254\n",
      "Registros con cero en Resultado Electrocardiograma 147\n",
      "Registros con cero en Frecuencia Cardiaca 0\n",
      "Registros con cero en Angida identificacion 200\n",
      "Registros con cero en depresion 96\n",
      "Registros con cero en Pendiente 139\n",
      "Registros con cero en COndicion 160\n",
      "Registros con cero en Numero de Vasos 174\n",
      "Registros con cero en Estado Corazon 164\n"
     ]
    }
   ],
   "source": [
    "print(\"Registros con cero en Edad\",Datos['Edad'].isin([0]).sum() )\n",
    "print(\"Registros con cero en sexo\",Datos['sexo'].isin([0]).sum() )\n",
    "print(\"Registros con cero en Presion Arterial\",Datos['PresionArterial'].isin([0]).sum() )\n",
    "print(\"Registros con cero en Colesterol\",Datos['colesterol'].isin([0]).sum() )\n",
    "print(\"Registros con cero en Nivel azucar en sangre\",Datos['AzucarSangre'].isin([0]).sum() )\n",
    "print(\"Registros con cero en Resultado Electrocardiograma\",Datos['ResultadosElectro'].isin([0]).sum() )\n",
    "\n",
    "print(\"Registros con cero en Frecuencia Cardiaca\",Datos['FrecuenciaC'].isin([0]).sum() )\n",
    "print(\"Registros con cero en Angida identificacion\",Datos['AnginaInd'].isin([0]).sum() )\n",
    "print(\"Registros con cero en depresion\",Datos['Depresion'].isin([0]).sum() )\n",
    "print(\"Registros con cero en Pendiente\",Datos['Pendiente'].isin([0]).sum() )\n",
    "print(\"Registros con cero en Condicion\",Datos['Condicion'].isin([0]).sum() )\n",
    "print(\"Registros con cero en Numero de Vasos\",Datos['NVasos'].isin([0]).sum() )\n",
    "print(\"Registros con cero en Estado Corazon\",Datos['EstadoCorazon'].isin([0]).sum() )\n",
    "\n"
   ]
  },
  {
   "cell_type": "markdown",
   "id": "ce040f87-cc9d-49d0-b0bb-65441a34d145",
   "metadata": {},
   "source": [
    "**Para mirar el tipo de dato en cada una de las variables, aunque son de tipo entero estan definidos con valores 0-1**"
   ]
  },
  {
   "cell_type": "code",
   "execution_count": 77,
   "id": "500c98d6-7dc8-4c76-a96d-b1236366c228",
   "metadata": {},
   "outputs": [
    {
     "name": "stdout",
     "output_type": "stream",
     "text": [
      "El tipo de dato de la columna 'Condicion' es: int64\n",
      "El tipo de dato de la columna 'Edad' es: int64\n",
      "El tipo de dato de la columna 'sexo' es: int64\n",
      "El tipo de dato de la columna 'PresionArterial' es: int64\n",
      "El tipo de dato de la columna 'colesterol' es: int64\n",
      "El tipo de dato de la columna 'AzucarSangre' es: int64\n",
      "El tipo de dato de la columna 'ResultadosElectro' es: int64\n"
     ]
    }
   ],
   "source": [
    "import pandas as pd\n",
    "Datos=pd.read_csv('./modelo.csv')\n",
    "\n",
    "tipo_de_dato = Datos['Condicion'].dtype\n",
    "print(f\"El tipo de dato de la columna 'Condicion' es: {tipo_de_dato}\")\n",
    "\n",
    "tipo_de_dato = Datos['Edad'].dtype\n",
    "print(f\"El tipo de dato de la columna 'Edad' es: {tipo_de_dato}\")\n",
    "\n",
    "tipo_de_dato = Datos['sexo'].dtype\n",
    "print(f\"El tipo de dato de la columna 'sexo' es: {tipo_de_dato}\")\n",
    "\n",
    "tipo_de_dato = Datos['PresionArterial'].dtype\n",
    "print(f\"El tipo de dato de la columna 'PresionArterial' es: {tipo_de_dato}\")\n",
    "\n",
    "tipo_de_dato = Datos['colesterol'].dtype\n",
    "print(f\"El tipo de dato de la columna 'colesterol' es: {tipo_de_dato}\")\n",
    "\n",
    "tipo_de_dato = Datos['AzucarSangre'].dtype\n",
    "print(f\"El tipo de dato de la columna 'AzucarSangre' es: {tipo_de_dato}\")\n",
    "\n",
    "tipo_de_dato = Datos['ResultadosElectro'].dtype\n",
    "print(f\"El tipo de dato de la columna 'ResultadosElectro' es: {tipo_de_dato}\")"
   ]
  },
  {
   "cell_type": "markdown",
   "id": "c428b5e0-448e-46e3-b949-d68fb998fe2f",
   "metadata": {},
   "source": [
    "**Busco valores atipicos, se observo uno en colesterol superior a 500 por lo cual se modifica**"
   ]
  },
  {
   "cell_type": "code",
   "execution_count": 72,
   "id": "63566b3d-52f2-4f30-b41f-dee2efc998b9",
   "metadata": {},
   "outputs": [
    {
     "data": {
      "text/plain": [
       "Text(0.5, 1.0, 'Datos Atipicos Pendiente')"
      ]
     },
     "execution_count": 72,
     "metadata": {},
     "output_type": "execute_result"
    },
    {
     "data": {
      "image/png": "[encoded data removed]",
      "text/plain": [
       "<Figure size 600x300 with 1 Axes>"
      ]
     },
     "metadata": {},
     "output_type": "display_data"
    }
   ],
   "source": [
    "plt.figure(figsize=(6,3))\n",
    "sns.boxplot(x=Datos['colesterol'])\n",
    "plt.title('Datos Atipicos Pendiente',fontsize=10 )"
   ]
  },
  {
   "cell_type": "code",
   "execution_count": 68,
   "id": "9146152d-8ec4-4bc2-9959-a28207662508",
   "metadata": {},
   "outputs": [
    {
     "name": "stdout",
     "output_type": "stream",
     "text": [
      "El total de Datos Atipicos es:1\n"
     ]
    }
   ],
   "source": [
    "nivel_min=0\n",
    "nivel_max=450\n",
    "Total_atipicos=((Datos['colesterol']<nivel_min)|(Datos['colesterol']>nivel_max)).sum()\n",
    "print(\"El total de Datos Atipicos es:{}\".format(Total_atipicos))"
   ]
  },
  {
   "cell_type": "code",
   "execution_count": 69,
   "id": "d0d2c336-3d8a-4c4b-80a8-d4956b1af6d7",
   "metadata": {},
   "outputs": [],
   "source": [
    "Datos=Datos[(Datos['colesterol']<nivel_min)&(Datos['colesterol']>nivel_max)]"
   ]
  },
  {
   "cell_type": "code",
   "execution_count": 70,
   "id": "40b67161-9334-484c-8f20-ff0f37da45b7",
   "metadata": {},
   "outputs": [
    {
     "name": "stdout",
     "output_type": "stream",
     "text": [
      "El total de Datos Atipicos es:0\n"
     ]
    }
   ],
   "source": [
    "Total_atipicos=((Datos['colesterol']<nivel_min)|(Datos['colesterol']>nivel_max)).sum()\n",
    "print(\"El total de Datos Atipicos es:{}\".format(Total_atipicos))"
   ]
  },
  {
   "cell_type": "code",
   "execution_count": 71,
   "id": "b76948c6-d33e-4485-8fb1-4fcd0440e4f0",
   "metadata": {},
   "outputs": [
    {
     "data": {
      "text/plain": [
       "Text(0.5, 1.0, 'Datos Atipicos Pendiente')"
      ]
     },
     "execution_count": 71,
     "metadata": {},
     "output_type": "execute_result"
    },
    {
     "data": {
      "image/png": "[encoded data removed]",
      "text/plain": [
       "<Figure size 600x300 with 1 Axes>"
      ]
     },
     "metadata": {},
     "output_type": "display_data"
    }
   ],
   "source": [
    "plt.figure(figsize=(6,3))\n",
    "sns.boxplot(x=Datos['colesterol'])\n",
    "plt.title('Datos Atipicos Pendiente',fontsize=10 )"
   ]
  },
  {
   "cell_type": "code",
   "execution_count": 74,
   "id": "8cadffaf-6b7f-4c5d-839f-006861a08f07",
   "metadata": {},
   "outputs": [
    {
     "name": "stdout",
     "output_type": "stream",
     "text": [
      "<class 'pandas.core.frame.DataFrame'>\n",
      "Index: 0 entries\n",
      "Data columns (total 14 columns):\n",
      " #   Column             Non-Null Count  Dtype  \n",
      "---  ------             --------------  -----  \n",
      " 0   Edad               0 non-null      int64  \n",
      " 1   sexo               0 non-null      int64  \n",
      " 2   Tipo_dolorP        0 non-null      int64  \n",
      " 3   PresionArterial    0 non-null      int64  \n",
      " 4   colesterol         0 non-null      int64  \n",
      " 5   AzucarSangre       0 non-null      int64  \n",
      " 6   ResultadosElectro  0 non-null      int64  \n",
      " 7   FrecuenciaC        0 non-null      int64  \n",
      " 8   AnginaInd          0 non-null      int64  \n",
      " 9   Depresion          0 non-null      float64\n",
      " 10  Pendiente          0 non-null      int64  \n",
      " 11  NVasos             0 non-null      int64  \n",
      " 12  EstadoCorazon      0 non-null      int64  \n",
      " 13  Condicion          0 non-null      int64  \n",
      "dtypes: float64(1), int64(13)\n",
      "memory usage: 0.0 bytes\n"
     ]
    }
   ],
   "source": [
    "Datos.info()"
   ]
  },
  {
   "cell_type": "code",
   "execution_count": 85,
   "id": "6c6827de-118c-43f8-85b3-ac039f247b32",
   "metadata": {},
   "outputs": [
    {
     "data": {
      "text/plain": [
       "Condicion\n",
       "0    160\n",
       "1    137\n",
       "Name: count, dtype: int64"
      ]
     },
     "execution_count": 85,
     "metadata": {},
     "output_type": "execute_result"
    }
   ],
   "source": [
    "Datos['EstadoCorazon'].value_counts()\n",
    "Datos['AzucarSangre'].value_counts()\n",
    "Datos['Condicion'].value_counts()\n"
   ]
  },
  {
   "cell_type": "markdown",
   "id": "386214cb-ea6e-4df2-940f-4ec2cdfe8b01",
   "metadata": {},
   "source": [
    "**Dividir dataset y Data train para evaluar el Modelo**"
   ]
  },
  {
   "cell_type": "code",
   "execution_count": 92,
   "id": "4ec49dac-5284-49be-8d06-7ea83a6229ca",
   "metadata": {},
   "outputs": [],
   "source": [
    "#se Utiliza el 75% para train y 25% para prueba\n",
    "x=Datos.drop('Condicion',axis=1)\n",
    "y=Datos['Condicion']\n",
    "x_train, x_test,y_train, y_test = train_test_split(x,y,test_size=0.25,stratify=y, random_state=0)"
   ]
  },
  {
   "cell_type": "code",
   "execution_count": 93,
   "id": "8df2a242-7779-4cc5-bd95-ce01184dd394",
   "metadata": {},
   "outputs": [
    {
     "name": "stdout",
     "output_type": "stream",
     "text": [
      "     Edad  sexo  Tipo_dolorP  PresionArterial  colesterol  AzucarSangre  \\\n",
      "234    56     0            3              200         288             1   \n",
      "82     66     0            2              146         278             0   \n",
      "36     56     1            1              120         240             0   \n",
      "237    56     1            3              132         184             0   \n",
      "133    47     1            2              108         243             0   \n",
      "..    ...   ...          ...              ...         ...           ...   \n",
      "291    40     1            3              110         167             0   \n",
      "195    61     0            3              130         330             0   \n",
      "170    65     0            3              150         225             0   \n",
      "135    46     0            2              142         177             0   \n",
      "293    39     1            3              118         219             0   \n",
      "\n",
      "     ResultadosElectro  FrecuenciaC  AnginaInd  Depresion  Pendiente  NVasos  \\\n",
      "234                  2          133          1        4.0          2       2   \n",
      "82                   2          152          0        0.0          1       1   \n",
      "36                   0          169          0        0.0          2       0   \n",
      "237                  2          105          1        2.1          1       1   \n",
      "133                  0          152          0        0.0          0       0   \n",
      "..                 ...          ...        ...        ...        ...     ...   \n",
      "291                  2          114          1        2.0          1       0   \n",
      "195                  2          169          0        0.0          0       0   \n",
      "170                  2          114          0        1.0          1       3   \n",
      "135                  2          160          1        1.4          2       0   \n",
      "293                  0          140          0        1.2          1       0   \n",
      "\n",
      "     EstadoCorazon  \n",
      "234              2  \n",
      "82               0  \n",
      "36               0  \n",
      "237              1  \n",
      "133              0  \n",
      "..             ...  \n",
      "291              2  \n",
      "195              0  \n",
      "170              2  \n",
      "135              0  \n",
      "293              2  \n",
      "\n",
      "[222 rows x 13 columns]\n"
     ]
    }
   ],
   "source": [
    "print(x_train)"
   ]
  },
  {
   "cell_type": "code",
   "execution_count": 94,
   "id": "e3bcc92c-d15c-49bd-b3c7-a769aeb37113",
   "metadata": {},
   "outputs": [
    {
     "name": "stdout",
     "output_type": "stream",
     "text": [
      "234    1\n",
      "82     0\n",
      "36     0\n",
      "237    1\n",
      "133    1\n",
      "      ..\n",
      "291    1\n",
      "195    1\n",
      "170    1\n",
      "135    0\n",
      "293    1\n",
      "Name: Condicion, Length: 222, dtype: int64\n"
     ]
    }
   ],
   "source": [
    "print(y_train)"
   ]
  },
  {
   "cell_type": "markdown",
   "id": "cd02676f-c7b1-4d6b-be38-5b164c9cd7fe",
   "metadata": {},
   "source": [
    "**Entrenar el modelo configurando parametros**"
   ]
  },
  {
   "cell_type": "code",
   "execution_count": 99,
   "id": "72035f46-e412-49cc-8e72-1904a8f627aa",
   "metadata": {},
   "outputs": [],
   "source": [
    "#basicamente se exporta una libreria\n",
    "modelo_regresion= LogisticRegression(solver=\"liblinear\")\n",
    "#modelo_regresion= LinearRegression(solver=\"liblinear\")\n",
    "modelo_regresion.fit(x_train, y_train)\n",
    "\n",
    "#se crea el modelo de prediccion\n",
    "Prediccion= modelo_regresion.predict(x_test)\n"
   ]
  },
  {
   "cell_type": "code",
   "execution_count": 97,
   "id": "e3c39161-0b7c-4da2-8721-6ea25ed46d8e",
   "metadata": {},
   "outputs": [
    {
     "name": "stdout",
     "output_type": "stream",
     "text": [
      "185    1\n",
      "157    1\n",
      "110    0\n",
      "39     0\n",
      "198    1\n",
      "      ..\n",
      "278    0\n",
      "163    1\n",
      "137    0\n",
      "33     1\n",
      "246    1\n",
      "Name: Condicion, Length: 75, dtype: int64\n"
     ]
    }
   ],
   "source": [
    "print(y_test)"
   ]
  },
  {
   "cell_type": "code",
   "execution_count": 100,
   "id": "3c0ebbf6-33ed-4460-a89a-8123b96d8a7b",
   "metadata": {},
   "outputs": [
    {
     "name": "stdout",
     "output_type": "stream",
     "text": [
      "[1 1 0 0 1 0 1 0 0 1 0 1 1 1 1 1 0 0 0 1 0 1 1 1 0 0 0 0 0 1 0 1 1 0 0 0 0\n",
      " 0 1 0 0 0 1 1 1 1 1 0 1 1 0 1 0 0 0 0 0 1 1 1 1 0 0 0 1 0 0 1 0 0 0 1 0 0\n",
      " 1]\n"
     ]
    }
   ],
   "source": [
    "print(Prediccion)"
   ]
  },
  {
   "cell_type": "markdown",
   "id": "7dee37e7-3620-43f1-a3ae-4c2508971136",
   "metadata": {},
   "source": [
    "**EvaluarDesempeño modelo**"
   ]
  },
  {
   "cell_type": "code",
   "execution_count": 102,
   "id": "532ac474-274c-45cd-8fad-2212ab614d84",
   "metadata": {},
   "outputs": [
    {
     "name": "stdout",
     "output_type": "stream",
     "text": [
      "              precision    recall  f1-score   support\n",
      "\n",
      "           0       0.88      0.90      0.89        40\n",
      "           1       0.88      0.86      0.87        35\n",
      "\n",
      "    accuracy                           0.88        75\n",
      "   macro avg       0.88      0.88      0.88        75\n",
      "weighted avg       0.88      0.88      0.88        75\n",
      "\n"
     ]
    }
   ],
   "source": [
    "print(classification_report(y_test,Prediccion))"
   ]
  },
  {
   "cell_type": "markdown",
   "id": "ea654e18-ed22-4a8a-b241-d2b7ee0a93fc",
   "metadata": {},
   "source": [
    "**<h1> Matriz de Confusion</h1>**"
   ]
  },
  {
   "cell_type": "code",
   "execution_count": 117,
   "id": "98d17293-2281-4fa0-b32d-2654023bb6a5",
   "metadata": {},
   "outputs": [
    {
     "name": "stdout",
     "output_type": "stream",
     "text": [
      "Matriz de Confusión:\n",
      "[[36  4]\n",
      " [ 5 30]]\n"
     ]
    },
    {
     "data": {
      "image/png": "[encoded data removed]",
      "text/plain": [
       "<Figure size 640x480 with 2 Axes>"
      ]
     },
     "metadata": {},
     "output_type": "display_data"
    }
   ],
   "source": [
    "#matriz de Confusion\n",
    "cm=confusion_matrix(y_test,Prediccion)\n",
    "disp=metrics.ConfusionMatrixDisplay(confusion_matrix=cm)\n",
    "disp.plot()\n",
    "print(\"Matriz de Confusión:\")\n",
    "print(cm)"
   ]
  },
  {
   "cell_type": "markdown",
   "id": "3f1cf957-3e3e-4b20-a8f9-9daf879b7d5a",
   "metadata": {},
   "source": [
    "**<h1> curva de Precision del Modelo**"
   ]
  },
  {
   "cell_type": "code",
   "execution_count": 118,
   "id": "4cfa781b-5ff4-48f1-b4d0-3117d9d54200",
   "metadata": {},
   "outputs": [
    {
     "data": {
      "image/png": "[encoded data removed]",
      "text/plain": [
       "<Figure size 640x480 with 1 Axes>"
      ]
     },
     "metadata": {},
     "output_type": "display_data"
    }
   ],
   "source": [
    "from sklearn.metrics import RocCurveDisplay\n",
    "RocCurveDisplay.from_predictions(y_test, Prediccion)\n",
    "plt.show()"
   ]
  },
  {
   "cell_type": "code",
   "execution_count": 121,
   "id": "e406bc18-e1aa-4d00-94ae-364bc931098a",
   "metadata": {},
   "outputs": [],
   "source": [
    "from sklearn.metrics import precision_recall_curve\n",
    "import matplotlib.pyplot as plt\n",
    "\n",
    "precision, recall, thresholds = precision_recall_curve(y_test, Prediccion)\n"
   ]
  },
  {
   "cell_type": "markdown",
   "id": "d51b1f11-924e-4d18-bcd3-1acfa4a6789a",
   "metadata": {},
   "source": [
    "**<h1> Curva de Precision Recall**"
   ]
  },
  {
   "cell_type": "code",
   "execution_count": 122,
   "id": "81648ba7-c49f-416f-9c5e-35234aeaffeb",
   "metadata": {},
   "outputs": [
    {
     "data": {
      "image/png": "[encoded data removed]",
      "text/plain": [
       "<Figure size 640x480 with 1 Axes>"
      ]
     },
     "metadata": {},
     "output_type": "display_data"
    }
   ],
   "source": [
    "plt.plot(recall, precision, marker='.')\n",
    "plt.xlabel('Recall')\n",
    "plt.ylabel('Precision')\n",
    "plt.title('Curva de Precisión-Recall')\n",
    "plt.grid(True)\n",
    "plt.show()"
   ]
  },
  {
   "cell_type": "markdown",
   "id": "9fcf2dca-f5ba-4e96-86fb-7fcb2ac87d3b",
   "metadata": {},
   "source": [
    "**Analisis**"
   ]
  },
  {
   "cell_type": "markdown",
   "id": "07735241-83e1-4a1b-ad34-2b3c5dc6dfea",
   "metadata": {},
   "source": [
    "<h1>Buen rendimiento general: Una precisión de 0.88 es bastante alta, lo que sugiere que el modelo está haciendo un buen trabajo en la clasificación de ambas clases.\n",
    "\n",
    "Equilibrio entre clases: Dado que la precisión es similar para ambas clases, podría indicar que el modelo está equilibrado en su capacidad para predecir tanto la clase positiva como la clase negativa.\n",
    "\n",
    "Desempeño consistente: La consistencia en la precisión entre las dos clases sugiere que el modelo no tiene un sesgo significativo hacia ninguna clase en particular.\n",
    "\n",
    "Aunque una precisión del 0.88 es alta, aún es importante considerar otras métricas de evaluación del modelo, como el recall, la F1-score, la matriz de confusión, la curva ROC y la AUC-ROC, para obtener una imagen más completa del rendimiento del modelo y para identificar posibles áreas de mejora.\n",
    "</h1>"
   ]
  },
  {
   "cell_type": "code",
   "execution_count": null,
   "id": "1cc09578-3252-4cb8-8111-8362e1740095",
   "metadata": {},
   "outputs": [],
   "source": []
  }
 ],
 "metadata": {
  "kernelspec": {
   "display_name": "Python 3 (ipykernel)",
   "language": "python",
   "name": "python3"
  },
  "language_info": {
   "codemirror_mode": {
    "name": "ipython",
    "version": 3
   },
   "file_extension": ".py",
   "mimetype": "text/x-python",
   "name": "python",
   "nbconvert_exporter": "python",
   "pygments_lexer": "ipython3",
   "version": "3.11.7"
  }
 },
 "nbformat": 4,
 "nbformat_minor": 5
}
